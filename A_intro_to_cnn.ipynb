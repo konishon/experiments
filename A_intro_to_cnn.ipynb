{
 "cells": [
  {
   "cell_type": "markdown",
   "metadata": {
    "colab_type": "text",
    "id": "8wCLS1IIl0Rd"
   },
   "source": [
    "# Section 1: A 2x2 World"
   ]
  },
  {
   "cell_type": "markdown",
   "metadata": {
    "colab_type": "text",
    "id": "EOly460yRxMD"
   },
   "source": [
    "## 1. Forward and Backward Slash"
   ]
  },
  {
   "cell_type": "code",
   "execution_count": 1,
   "metadata": {
    "colab": {},
    "colab_type": "code",
    "id": "jZk0UHV0QTtG"
   },
   "outputs": [],
   "source": [
    "import numpy as np\n",
    "import matplotlib.pyplot as plt\n",
    "import matplotlib.colors"
   ]
  },
  {
   "cell_type": "code",
   "execution_count": 2,
   "metadata": {
    "colab": {
     "base_uri": "https://localhost:8080/",
     "height": 186
    },
    "colab_type": "code",
    "id": "fDBl-WKWifBk",
    "outputId": "29cc84e6-73f0-4d44-df8c-bef71a992207"
   },
   "outputs": [],
   "source": [
    "colors = 'black white'.split()\n",
    "cmap = matplotlib.colors.ListedColormap(colors, name='colors', N=None)"
   ]
  },
  {
   "cell_type": "markdown",
   "metadata": {
    "colab_type": "text",
    "id": "ZG4JRNVUR6nm"
   },
   "source": [
    "### 1.1. Forward slash"
   ]
  },
  {
   "cell_type": "code",
   "execution_count": 3,
   "metadata": {
    "colab": {
     "base_uri": "https://localhost:8080/",
     "height": 305
    },
    "colab_type": "code",
    "id": "KrqNIiJOQYX4",
    "outputId": "925dc2da-a21b-4c6d-8e0c-dd6d53bf5eeb"
   },
   "outputs": [
    {
     "name": "stdout",
     "output_type": "stream",
     "text": [
      "[[0 1]\n",
      " [1 0]]\n"
     ]
    },
    {
     "data": {
      "image/png": "[encoded data removed]",
      "text/plain": [
       "<Figure size 432x288 with 1 Axes>"
      ]
     },
     "metadata": {},
     "output_type": "display_data"
    }
   ],
   "source": [
    "forward_slash = [[0,1],[1,0]]\n",
    "forward_slash = np.array(forward_slash)\n",
    "print(forward_slash)\n",
    "\n",
    "plt.imshow(forward_slash,cmap=cmap);\n",
    "plt.show()"
   ]
  },
  {
   "cell_type": "markdown",
   "metadata": {
    "colab_type": "text",
    "id": "ZCq-eOKESC5G"
   },
   "source": [
    "### 1.2. Backward slash"
   ]
  },
  {
   "cell_type": "code",
   "execution_count": 5,
   "metadata": {
    "colab": {
     "base_uri": "https://localhost:8080/",
     "height": 305
    },
    "colab_type": "code",
    "id": "vKEiLAWEQ1ni",
    "outputId": "9e160baf-78cc-4629-8ff7-1eb19a10cdf9"
   },
   "outputs": [
    {
     "name": "stdout",
     "output_type": "stream",
     "text": [
      "[[1 0]\n",
      " [0 1]]\n"
     ]
    },
    {
     "data": {
      "image/png": "[encoded data removed]",
      "text/plain": [
       "<Figure size 432x288 with 1 Axes>"
      ]
     },
     "metadata": {},
     "output_type": "display_data"
    }
   ],
   "source": [
    "backward_slash = [[1,0],[0,1]]\n",
    "backward_slash = np.array(backward_slash)\n",
    "print(backward_slash)\n",
    "\n",
    "plt.imshow(backward_slash,cmap=cmap);\n",
    "plt.show()"
   ]
  },
  {
   "cell_type": "markdown",
   "metadata": {
    "colab_type": "text",
    "id": "t3sYQUoYSUgA"
   },
   "source": [
    "## 2. How computer sees it ?"
   ]
  },
  {
   "cell_type": "markdown",
   "metadata": {
    "colab_type": "text",
    "id": "dLJYwreXSi56"
   },
   "source": [
    "### 2.1. Forward Slash"
   ]
  },
  {
   "cell_type": "code",
   "execution_count": 6,
   "metadata": {
    "colab": {
     "base_uri": "https://localhost:8080/",
     "height": 154
    },
    "colab_type": "code",
    "id": "KLK_2iwISXNo",
    "outputId": "be8c577d-5f3c-45ba-88f0-c1259551268e"
   },
   "outputs": [
    {
     "name": "stdout",
     "output_type": "stream",
     "text": [
      "[0 1 1 0]\n"
     ]
    },
    {
     "data": {
      "image/png": "[encoded data removed]",
      "text/plain": [
       "<Figure size 432x288 with 1 Axes>"
      ]
     },
     "metadata": {},
     "output_type": "display_data"
    }
   ],
   "source": [
    "serialized_forward_slash = forward_slash.ravel()\n",
    "print(serialized_forward_slash)\n",
    "\n",
    "plt.imshow(np.expand_dims(serialized_forward_slash, axis=0),cmap=cmap );\n",
    "plt.show()"
   ]
  },
  {
   "cell_type": "markdown",
   "metadata": {
    "colab_type": "text",
    "id": "oFsIkBKjSmkh"
   },
   "source": [
    "### 2.2. Backward Slash"
   ]
  },
  {
   "cell_type": "code",
   "execution_count": 7,
   "metadata": {
    "colab": {
     "base_uri": "https://localhost:8080/",
     "height": 154
    },
    "colab_type": "code",
    "id": "g8GxqWfkSo7-",
    "outputId": "e88d0bf4-c2c1-47b6-a6e7-b29f40756858"
   },
   "outputs": [
    {
     "name": "stdout",
     "output_type": "stream",
     "text": [
      "[1 0 0 1]\n"
     ]
    },
    {
     "data": {
      "image/png": "[encoded data removed]",
      "text/plain": [
       "<Figure size 432x288 with 1 Axes>"
      ]
     },
     "metadata": {},
     "output_type": "display_data"
    }
   ],
   "source": [
    "serialized_backward_slash = backward_slash.ravel()\n",
    "print(serialized_backward_slash)\n",
    "\n",
    "plt.imshow(np.expand_dims(serialized_backward_slash, axis=0),cmap=cmap);\n",
    "plt.show()"
   ]
  },
  {
   "cell_type": "markdown",
   "metadata": {
    "colab_type": "text",
    "id": "GEEc_zPfVL5C"
   },
   "source": [
    "## 3. Classify Forward and Backward Slash"
   ]
  },
  {
   "cell_type": "code",
   "execution_count": 8,
   "metadata": {
    "colab": {},
    "colab_type": "code",
    "id": "UutCH1FOVkt-"
   },
   "outputs": [],
   "source": [
    "def predict(image):\n",
    "  rule = [ 1,-1,-1,1]\n",
    "  \n",
    "  processed_pixels = []\n",
    "  for (i, pixel) in enumerate(image):\n",
    "    processed_pixels.append(rule[i] * pixel)\n",
    "  \n",
    "  total = sum(processed_pixels)\n",
    "\n",
    "  if total > 0:\n",
    "    print(\"Prediciton: Backward Slash\")    \n",
    "  else:\n",
    "    print(\"Predicition: Forward Slash\")\n",
    "\n",
    "  return total\n"
   ]
  },
  {
   "cell_type": "code",
   "execution_count": 9,
   "metadata": {
    "colab": {
     "base_uri": "https://localhost:8080/",
     "height": 88
    },
    "colab_type": "code",
    "id": "G9LoeucvV0ur",
    "outputId": "abdc6064-d834-4b04-d344-083e5f99edd4"
   },
   "outputs": [
    {
     "name": "stdout",
     "output_type": "stream",
     "text": [
      "Prediciton: Backward Slash\n",
      "2\n",
      "Predicition: Forward Slash\n",
      "-2\n"
     ]
    }
   ],
   "source": [
    "images = [serialized_backward_slash,serialized_forward_slash]\n",
    "for image in images:\n",
    "  pred = predict(image)\n",
    "  print(pred)"
   ]
  },
  {
   "cell_type": "markdown",
   "metadata": {
    "colab_type": "text",
    "id": "2vzRYA_rb91W"
   },
   "source": [
    "## 4. Generalization"
   ]
  },
  {
   "cell_type": "code",
   "execution_count": 10,
   "metadata": {
    "colab": {
     "base_uri": "https://localhost:8080/",
     "height": 269
    },
    "colab_type": "code",
    "id": "0IgEpu_ZcCE1",
    "outputId": "4328f0e9-35f6-4ac4-dcf6-c39d406fcdf7"
   },
   "outputs": [
    {
     "data": {
      "image/png": "[encoded data removed]",
      "text/plain": [
       "<Figure size 432x288 with 1 Axes>"
      ]
     },
     "metadata": {},
     "output_type": "display_data"
    }
   ],
   "source": [
    "one = [[1,1],[0,1]]\n",
    "one = np.array(one)\n",
    "\n",
    "plt.imshow(one,cmap=cmap);\n",
    "plt.show()"
   ]
  },
  {
   "cell_type": "code",
   "execution_count": 0,
   "metadata": {
    "colab": {
     "base_uri": "https://localhost:8080/",
     "height": 53
    },
    "colab_type": "code",
    "id": "nJ8F3jD2haPE",
    "outputId": "7c916475-e6b0-4f6f-bb30-39000dfbe3dd"
   },
   "outputs": [
    {
     "name": "stdout",
     "output_type": "stream",
     "text": [
      "Prediciton: Backward Slash\n"
     ]
    },
    {
     "data": {
      "text/plain": [
       "1"
      ]
     },
     "execution_count": 138,
     "metadata": {
      "tags": []
     },
     "output_type": "execute_result"
    }
   ],
   "source": [
    "predict(one.ravel())"
   ]
  },
  {
   "cell_type": "code",
   "execution_count": 11,
   "metadata": {
    "colab": {
     "base_uri": "https://localhost:8080/",
     "height": 305
    },
    "colab_type": "code",
    "id": "FVF993PacbQw",
    "outputId": "84023303-ffbe-4872-f225-57511452a3d1"
   },
   "outputs": [
    {
     "name": "stdout",
     "output_type": "stream",
     "text": [
      "[[0 0]\n",
      " [1 0]]\n"
     ]
    },
    {
     "data": {
      "image/png": "[encoded data removed]",
      "text/plain": [
       "<Figure size 432x288 with 1 Axes>"
      ]
     },
     "metadata": {},
     "output_type": "display_data"
    }
   ],
   "source": [
    "two = [[0,0],[1,0]]\n",
    "two = np.array(two)\n",
    "print(two)\n",
    "\n",
    "plt.imshow(two,cmap=cmap);\n",
    "plt.show()"
   ]
  },
  {
   "cell_type": "code",
   "execution_count": 12,
   "metadata": {
    "colab": {
     "base_uri": "https://localhost:8080/",
     "height": 53
    },
    "colab_type": "code",
    "id": "RlpT6wtKchYH",
    "outputId": "c664336a-d91f-49d7-8196-3af1eadaabda"
   },
   "outputs": [
    {
     "name": "stdout",
     "output_type": "stream",
     "text": [
      "Predicition: Forward Slash\n"
     ]
    },
    {
     "data": {
      "text/plain": [
       "-1"
      ]
     },
     "execution_count": 12,
     "metadata": {},
     "output_type": "execute_result"
    }
   ],
   "source": [
    "predict(two.ravel())"
   ]
  },
  {
   "cell_type": "markdown",
   "metadata": {
    "colab_type": "text",
    "id": "s6763MhOmPeE"
   },
   "source": [
    "# Section 2: A 3x3 World"
   ]
  },
  {
   "cell_type": "markdown",
   "metadata": {
    "colab_type": "text",
    "id": "1UKywgHPnaVo"
   },
   "source": [
    "## 1 . Ex's & Oh's"
   ]
  },
  {
   "cell_type": "code",
   "execution_count": 13,
   "metadata": {
    "colab": {},
    "colab_type": "code",
    "id": "iIZWuGAmnv4a"
   },
   "outputs": [],
   "source": [
    "POS = 1\n",
    "NEG = -1"
   ]
  },
  {
   "cell_type": "code",
   "execution_count": 15,
   "metadata": {
    "colab": {},
    "colab_type": "code",
    "id": "1y-IiP7pnYr6"
   },
   "outputs": [],
   "source": [
    "forward_slash = np.array([[POS,NEG,NEG],[NEG,POS,NEG],[NEG,NEG,POS]])\n",
    "backward_slash = np.array([[NEG,NEG,POS],[NEG,POS,NEG],[POS,NEG,NEG]])\n",
    "\n",
    "x = np.array([[POS,NEG,POS],[NEG,POS,NEG],[POS,NEG,POS]])\n",
    "o = np.array([[NEG,POS,NEG],[POS,NEG,POS],[NEG,POS,NEG]])"
   ]
  },
  {
   "cell_type": "code",
   "execution_count": 16,
   "metadata": {
    "colab": {
     "base_uri": "https://localhost:8080/",
     "height": 1000
    },
    "colab_type": "code",
    "id": "i6dzzmSRoDYa",
    "outputId": "eec214e0-3579-4679-9bc1-0cf1f1619839"
   },
   "outputs": [
    {
     "data": {
      "image/png": "[encoded data removed]",
      "text/plain": [
       "<Figure size 432x288 with 1 Axes>"
      ]
     },
     "metadata": {},
     "output_type": "display_data"
    },
    {
     "data": {
      "image/png": "[encoded data removed]",
      "text/plain": [
       "<Figure size 432x288 with 1 Axes>"
      ]
     },
     "metadata": {},
     "output_type": "display_data"
    },
    {
     "data": {
      "image/png": "[encoded data removed]",
      "text/plain": [
       "<Figure size 432x288 with 1 Axes>"
      ]
     },
     "metadata": {},
     "output_type": "display_data"
    },
    {
     "data": {
      "image/png": "[encoded data removed]",
      "text/plain": [
       "<Figure size 432x288 with 1 Axes>"
      ]
     },
     "metadata": {},
     "output_type": "display_data"
    }
   ],
   "source": [
    "images = [forward_slash,backward_slash,x,o]\n",
    "for image in images:\n",
    "  plt.imshow(image,cmap=cmap);\n",
    "  plt.show()"
   ]
  },
  {
   "cell_type": "markdown",
   "metadata": {
    "colab_type": "text",
    "id": "F1G99wZBafiG"
   },
   "source": [
    "We break images into smaller images and analyse them"
   ]
  },
  {
   "cell_type": "code",
   "execution_count": 17,
   "metadata": {
    "colab": {},
    "colab_type": "code",
    "id": "1OXGELDdai2-"
   },
   "outputs": [],
   "source": [
    "forward_slash_filter = [1,-1,-1,1]\n",
    "backward_slash_fiter = [-1,1,1,-1]"
   ]
  },
  {
   "cell_type": "code",
   "execution_count": 18,
   "metadata": {
    "colab": {
     "base_uri": "https://localhost:8080/",
     "height": 71
    },
    "colab_type": "code",
    "id": "Z14T9XegbiKj",
    "outputId": "4e578c4e-970e-4dcf-80a3-603c902e391d"
   },
   "outputs": [
    {
     "data": {
      "text/plain": [
       "array([[ 1, -1, -1],\n",
       "       [-1,  1, -1],\n",
       "       [-1, -1,  1]])"
      ]
     },
     "execution_count": 18,
     "metadata": {},
     "output_type": "execute_result"
    }
   ],
   "source": [
    "forward_slash"
   ]
  },
  {
   "cell_type": "code",
   "execution_count": 21,
   "metadata": {
    "colab": {},
    "colab_type": "code",
    "id": "aLfrsPSrcNMX"
   },
   "outputs": [],
   "source": [
    "# first number: row or column index\n",
    "# second number: axis (0 for row 1 for column)\n",
    "filter_movement = [\n",
    "                    ((2,1),(2,0)),\n",
    "                    ((0,1),(2,0)),\n",
    "                    ((0,0),(2,1)),\n",
    "                    ((0,0),(0,1))\n",
    "                  ]"
   ]
  },
  {
   "cell_type": "code",
   "execution_count": 22,
   "metadata": {
    "colab": {},
    "colab_type": "code",
    "id": "WTpTpv8fcjmM"
   },
   "outputs": [],
   "source": [
    "def convulation_layer(layer_filter,image):\n",
    "  filtered_image = []\n",
    "  for movement in filter_movement:\n",
    "    x_movement = movement[0]\n",
    "    y_movement = movement[1]\n",
    "    \n",
    "    filtered_block  = np.delete(image, x_movement[0], axis=x_movement[1])\n",
    "    filtered_block = np.delete(filtered_block,y_movement[0],y_movement[1])\n",
    "    \n",
    "    processed_pixels = []\n",
    "\n",
    "    for (i, pixel) in enumerate(filtered_block.ravel()):\n",
    "      processed_pixels.append(layer_filter[i] * pixel)\n",
    "\n",
    "    total = sum(processed_pixels)\n",
    "    filtered_image.append(total)\n",
    "\n",
    "  filtered_image = np.array(filtered_image)\n",
    "  return filtered_image"
   ]
  },
  {
   "cell_type": "markdown",
   "metadata": {
    "colab_type": "text",
    "id": "s73MwIy_l8Qf"
   },
   "source": [
    "### 1.3. Searching for forward slash "
   ]
  },
  {
   "cell_type": "code",
   "execution_count": 23,
   "metadata": {
    "colab": {
     "base_uri": "https://localhost:8080/",
     "height": 35
    },
    "colab_type": "code",
    "id": "xTpkz31ieW0q",
    "outputId": "abab028d-cec4-4add-f675-206a1216689d"
   },
   "outputs": [
    {
     "data": {
      "text/plain": [
       "array([ 4, -2, -2,  4])"
      ]
     },
     "execution_count": 23,
     "metadata": {},
     "output_type": "execute_result"
    }
   ],
   "source": [
    "forward_slash_filter = [1,-1,-1,1]\n",
    "convulation_layer(forward_slash_filter,forward_slash)"
   ]
  },
  {
   "cell_type": "markdown",
   "metadata": {
    "colab_type": "text",
    "id": "JcqZ3ljxmE_N"
   },
   "source": [
    "### 1.2. Searching for backward slash"
   ]
  },
  {
   "cell_type": "code",
   "execution_count": 24,
   "metadata": {
    "colab": {
     "base_uri": "https://localhost:8080/",
     "height": 35
    },
    "colab_type": "code",
    "id": "XthiFVjIjNMI",
    "outputId": "df8ef47d-da99-495d-def0-5854c69c3abd"
   },
   "outputs": [
    {
     "data": {
      "text/plain": [
       "array([-4,  2,  2, -4])"
      ]
     },
     "execution_count": 24,
     "metadata": {},
     "output_type": "execute_result"
    }
   ],
   "source": [
    "backward_slash_filter = [-1,1,1,-1]\n",
    "convulation_layer(backward_slash_filter,forward_slash)"
   ]
  },
  {
   "cell_type": "markdown",
   "metadata": {
    "colab_type": "text",
    "id": "P3NhUZhbm_2W"
   },
   "source": [
    "### 1.3. Combining results"
   ]
  },
  {
   "cell_type": "code",
   "execution_count": 25,
   "metadata": {
    "colab": {},
    "colab_type": "code",
    "id": "qF3s7RL4nCsu"
   },
   "outputs": [],
   "source": [
    "def pooling_layer(filtered_image):\n",
    "  pooled_image = []\n",
    "  for pixel in filtered_image:\n",
    "    if pixel > 2:\n",
    "      pooled_image.append(1)\n",
    "    else:\n",
    "      pooled_image.append(-1)  \n",
    "  return np.array(pooled_image)"
   ]
  },
  {
   "cell_type": "code",
   "execution_count": 26,
   "metadata": {
    "colab": {},
    "colab_type": "code",
    "id": "lXeh5diwnfEJ"
   },
   "outputs": [],
   "source": [
    "filter_for_x = [1,-1,-1,1,-1,1,1,-1]\n",
    "filter_for_o = [-1,1,1,-1,1,-1,-1,1]\n",
    "filter_for_forward_slash = [-1,-1,-1,-1,-1,1,1,-1]\n",
    "filter_for_backward_slash = [1,-1,-1,1,-1,-1,-1,-1]\n",
    "filter_list = [filter_for_x,filter_for_o,filter_for_forward_slash,filter_for_backward_slash]"
   ]
  },
  {
   "cell_type": "code",
   "execution_count": 60,
   "metadata": {
    "colab": {},
    "colab_type": "code",
    "id": "DRyLleOAgTyf"
   },
   "outputs": [],
   "source": [
    "def predict(image):\n",
    "    conv_1 = convulation_layer(forward_slash_filter,image)\n",
    "    pool_1 = pooling_layer(conv_1)\n",
    "    \n",
    "    conv_2 = convulation_layer(backward_slash_filter,image)\n",
    "    pool_2 = pooling_layer(conv_2)\n",
    "    \n",
    "    print(pool_1.reshape(2,2))\n",
    "    print(\"\")\n",
    "    print(pool_2.reshape(2,2))\n",
    "    \n",
    "    merged_pool = pool_1.ravel() + pool_2.ravel()\n",
    "    \n",
    "    print(merged_pool)\n",
    "    \n",
    "    fc_layer = []\n",
    "    for pixel in merged_pool:\n",
    "        fc_layer.append(1 if 0 else -1) \n",
    "    \n",
    "    for pixel in merged_pool:\n",
    "        fc_layer.append(1 if -2 else -1) \n",
    "    \n",
    "    fc_layer = np.array(fc_layer)\n",
    "    \n",
    "    processed_pixels = []\n",
    "    pred = []\n",
    "    \n",
    "#     print(fc_layer.reshape(2,4))\n",
    "    for layer_filter in filter_list: \n",
    "        for (i, pixel) in enumerate(fc_layer.ravel()):\n",
    "            processed_pixels.append(layer_filter[i] * pixel)\n",
    "        total = sum(processed_pixels)\n",
    "        pred.append(total)\n",
    "        \n",
    "#     print(pred)\n"
   ]
  },
  {
   "cell_type": "code",
   "execution_count": 62,
   "metadata": {
    "colab": {
     "base_uri": "https://localhost:8080/",
     "height": 35
    },
    "colab_type": "code",
    "id": "439fVePEf8I7",
    "outputId": "4073fda8-7c40-421a-a218-03a1317a4364"
   },
   "outputs": [
    {
     "name": "stdout",
     "output_type": "stream",
     "text": [
      "[[ 1 -1]\n",
      " [-1  1]]\n",
      "\n",
      "[[-1  1]\n",
      " [ 1 -1]]\n",
      "[0 0 0 0]\n"
     ]
    }
   ],
   "source": [
    "predict(x)"
   ]
  },
  {
   "cell_type": "code",
   "execution_count": 63,
   "metadata": {
    "colab": {},
    "colab_type": "code",
    "id": "kOnqrNdCoywa"
   },
   "outputs": [
    {
     "name": "stdout",
     "output_type": "stream",
     "text": [
      "[[-1  1]\n",
      " [ 1 -1]]\n",
      "\n",
      "[[ 1 -1]\n",
      " [-1  1]]\n",
      "[0 0 0 0]\n"
     ]
    }
   ],
   "source": [
    "predict(o)"
   ]
  },
  {
   "cell_type": "code",
   "execution_count": 64,
   "metadata": {},
   "outputs": [
    {
     "name": "stdout",
     "output_type": "stream",
     "text": [
      "[[ 1 -1]\n",
      " [-1  1]]\n",
      "\n",
      "[[-1 -1]\n",
      " [-1 -1]]\n",
      "[ 0 -2 -2  0]\n"
     ]
    }
   ],
   "source": [
    "predict(forward_slash)"
   ]
  },
  {
   "cell_type": "code",
   "execution_count": null,
   "metadata": {},
   "outputs": [],
   "source": []
  }
 ],
 "metadata": {
  "colab": {
   "collapsed_sections": [
    "EOly460yRxMD",
    "t3sYQUoYSUgA",
    "2vzRYA_rb91W"
   ],
   "name": "A intro to cnn.ipynb",
   "provenance": [],
   "toc_visible": true,
   "version": "0.3.2"
  },
  "kernelspec": {
   "display_name": "Python 3",
   "language": "python",
   "name": "python3"
  },
  "language_info": {
   "codemirror_mode": {
    "name": "ipython",
    "version": 3
   },
   "file_extension": ".py",
   "mimetype": "text/x-python",
   "name": "python",
   "nbconvert_exporter": "python",
   "pygments_lexer": "ipython3",
   "version": "3.6.8"
  }
 },
 "nbformat": 4,
 "nbformat_minor": 1
}
