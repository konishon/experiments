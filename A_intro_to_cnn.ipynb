{
  "nbformat": 4,
  "nbformat_minor": 0,
  "metadata": {
    "colab": {
      "name": "A intro to cnn.ipynb",
      "version": "0.3.2",
      "provenance": []
    },
    "kernelspec": {
      "name": "python3",
      "display_name": "Python 3"
    }
  },
  "cells": [
    {
      "cell_type": "markdown",
      "metadata": {
        "id": "EOly460yRxMD",
        "colab_type": "text"
      },
      "source": [
        "# 1. Forward and Backward Slash"
      ]
    },
    {
      "cell_type": "code",
      "metadata": {
        "id": "jZk0UHV0QTtG",
        "colab_type": "code",
        "colab": {}
      },
      "source": [
        "import numpy as np\n",
        "import matplotlib\n"
      ],
      "execution_count": 0,
      "outputs": []
    },
    {
      "cell_type": "code",
      "metadata": {
        "id": "fDBl-WKWifBk",
        "colab_type": "code",
        "colab": {}
      },
      "source": [
        "colors = 'black white'.split()\n",
        "cmap = matplotlib.colors.ListedColormap(colors, name='colors', N=None)"
      ],
      "execution_count": 0,
      "outputs": []
    },
    {
      "cell_type": "markdown",
      "metadata": {
        "id": "ZG4JRNVUR6nm",
        "colab_type": "text"
      },
      "source": [
        "## 1.1. Forward slash"
      ]
    },
    {
      "cell_type": "code",
      "metadata": {
        "id": "KrqNIiJOQYX4",
        "colab_type": "code",
        "outputId": "69ff528f-b578-4ef8-96dd-16786e6ed8bd",
        "colab": {
          "base_uri": "https://localhost:8080/",
          "height": 305
        }
      },
      "source": [
        "forward_slash = [[0,1],[1,0]]\n",
        "forward_slash = np.array(forward_slash)\n",
        "print(forward_slash)\n",
        "\n",
        "plt.imshow(forward_slash,cmap=cmap);\n",
        "plt.show()"
      ],
      "execution_count": 72,
      "outputs": [
        {
          "output_type": "stream",
          "text": [
            "[[0 1]\n",
            " [1 0]]\n"
          ],
          "name": "stdout"
        },
        {
          "output_type": "display_data",
          "data": {
            "image/png": "[encoded data removed]",
            "text/plain": [
              "<Figure size 432x288 with 1 Axes>"
            ]
          },
          "metadata": {
            "tags": []
          }
        }
      ]
    },
    {
      "cell_type": "markdown",
      "metadata": {
        "id": "ZCq-eOKESC5G",
        "colab_type": "text"
      },
      "source": [
        "## 1.2. Backward slash"
      ]
    },
    {
      "cell_type": "code",
      "metadata": {
        "id": "vKEiLAWEQ1ni",
        "colab_type": "code",
        "outputId": "81648626-2279-440f-f120-6082ee1bdb57",
        "colab": {
          "base_uri": "https://localhost:8080/",
          "height": 305
        }
      },
      "source": [
        "backward_slash = [[1,0],[0,1]]\n",
        "backward_slash = np.array(backward_slash)\n",
        "print(backward_slash)\n",
        "\n",
        "plt.imshow(backward_slash,cmap=cmap);\n",
        "plt.show()"
      ],
      "execution_count": 73,
      "outputs": [
        {
          "output_type": "stream",
          "text": [
            "[[1 0]\n",
            " [0 1]]\n"
          ],
          "name": "stdout"
        },
        {
          "output_type": "display_data",
          "data": {
            "image/png": "[encoded data removed]",
            "text/plain": [
              "<Figure size 432x288 with 1 Axes>"
            ]
          },
          "metadata": {
            "tags": []
          }
        }
      ]
    },
    {
      "cell_type": "markdown",
      "metadata": {
        "id": "t3sYQUoYSUgA",
        "colab_type": "text"
      },
      "source": [
        "# 2. How computer sees it ?"
      ]
    },
    {
      "cell_type": "markdown",
      "metadata": {
        "id": "dLJYwreXSi56",
        "colab_type": "text"
      },
      "source": [
        "## 2.1. Forward Slash"
      ]
    },
    {
      "cell_type": "code",
      "metadata": {
        "id": "KLK_2iwISXNo",
        "colab_type": "code",
        "outputId": "a94af6b3-c398-4f42-c11c-914740f3545d",
        "colab": {
          "base_uri": "https://localhost:8080/",
          "height": 154
        }
      },
      "source": [
        "serialized_forward_slash = forward_slash.ravel()\n",
        "print(serialized_forward_slash)\n",
        "\n",
        "plt.imshow(np.expand_dims(serialized_forward_slash, axis=0),cmap=cmap );\n",
        "plt.show()"
      ],
      "execution_count": 74,
      "outputs": [
        {
          "output_type": "stream",
          "text": [
            "[0 1 1 0]\n"
          ],
          "name": "stdout"
        },
        {
          "output_type": "display_data",
          "data": {
            "image/png": "[encoded data removed]",
            "text/plain": [
              "<Figure size 432x288 with 1 Axes>"
            ]
          },
          "metadata": {
            "tags": []
          }
        }
      ]
    },
    {
      "cell_type": "markdown",
      "metadata": {
        "id": "oFsIkBKjSmkh",
        "colab_type": "text"
      },
      "source": [
        "## 2.2. Backward Slash"
      ]
    },
    {
      "cell_type": "code",
      "metadata": {
        "id": "g8GxqWfkSo7-",
        "colab_type": "code",
        "outputId": "08d59a61-3b71-445d-946f-a05863a72202",
        "colab": {
          "base_uri": "https://localhost:8080/",
          "height": 154
        }
      },
      "source": [
        "serialized_backward_slash = backward_slash.ravel()\n",
        "print(serialized_backward_slash)\n",
        "\n",
        "plt.imshow(np.expand_dims(serialized_backward_slash, axis=0),cmap=cmap);\n",
        "plt.show()"
      ],
      "execution_count": 76,
      "outputs": [
        {
          "output_type": "stream",
          "text": [
            "[1 0 0 1]\n"
          ],
          "name": "stdout"
        },
        {
          "output_type": "display_data",
          "data": {
            "image/png": "[encoded data removed]",
            "text/plain": [
              "<Figure size 432x288 with 1 Axes>"
            ]
          },
          "metadata": {
            "tags": []
          }
        }
      ]
    },
    {
      "cell_type": "markdown",
      "metadata": {
        "id": "GEEc_zPfVL5C",
        "colab_type": "text"
      },
      "source": [
        "# 3. Make a classifier that can differentiate between forward and backward slash"
      ]
    },
    {
      "cell_type": "code",
      "metadata": {
        "id": "UutCH1FOVkt-",
        "colab_type": "code",
        "colab": {}
      },
      "source": [
        "def predict(image):\n",
        "  rule = [ 1,-1,-1,1]\n",
        "  \n",
        "  processed_pixels = []\n",
        "  for (i, pixel) in enumerate(image):\n",
        "    processed_pixels.append(rule[i] * pixel)\n",
        "  \n",
        "  total = sum(processed_pixels)\n",
        "\n",
        "  if total > 0:\n",
        "    print(\"Prediciton: Backward Slash\")    \n",
        "  else:\n",
        "    print(\"Predicition: Forward Slash\")\n",
        "\n",
        "  return total\n"
      ],
      "execution_count": 0,
      "outputs": []
    },
    {
      "cell_type": "code",
      "metadata": {
        "id": "G9LoeucvV0ur",
        "colab_type": "code",
        "outputId": "38330d17-6977-4324-edbc-0d9f36ede393",
        "colab": {
          "base_uri": "https://localhost:8080/",
          "height": 53
        }
      },
      "source": [
        "images = [serialized_backward_slash,serialized_forward_slash]\n",
        "for image in images:\n",
        "  pred = predict(image)"
      ],
      "execution_count": 78,
      "outputs": [
        {
          "output_type": "stream",
          "text": [
            "Prediciton: Backward Slash\n",
            "Predicition: Forward Slash\n"
          ],
          "name": "stdout"
        }
      ]
    },
    {
      "cell_type": "markdown",
      "metadata": {
        "id": "2vzRYA_rb91W",
        "colab_type": "text"
      },
      "source": [
        "# 4. It Generalizes "
      ]
    },
    {
      "cell_type": "code",
      "metadata": {
        "id": "0IgEpu_ZcCE1",
        "colab_type": "code",
        "outputId": "0e9ce152-926b-4ebc-ee6a-a0f25ab3e69a",
        "colab": {
          "base_uri": "https://localhost:8080/",
          "height": 269
        }
      },
      "source": [
        "one = [[1,1],[0,1]]\n",
        "one = np.array(one)\n",
        "\n",
        "plt.imshow(one,cmap=cmap);\n",
        "plt.show()"
      ],
      "execution_count": 79,
      "outputs": [
        {
          "output_type": "display_data",
          "data": {
            "image/png": "[encoded data removed]",
            "text/plain": [
              "<Figure size 432x288 with 1 Axes>"
            ]
          },
          "metadata": {
            "tags": []
          }
        }
      ]
    },
    {
      "cell_type": "code",
      "metadata": {
        "id": "nJ8F3jD2haPE",
        "colab_type": "code",
        "colab": {
          "base_uri": "https://localhost:8080/",
          "height": 53
        },
        "outputId": "024328da-9cc9-486a-cae9-6b352e8824b9"
      },
      "source": [
        "predict(one.ravel())"
      ],
      "execution_count": 80,
      "outputs": [
        {
          "output_type": "stream",
          "text": [
            "Prediciton: Backward Slash\n"
          ],
          "name": "stdout"
        },
        {
          "output_type": "execute_result",
          "data": {
            "text/plain": [
              "1"
            ]
          },
          "metadata": {
            "tags": []
          },
          "execution_count": 80
        }
      ]
    },
    {
      "cell_type": "code",
      "metadata": {
        "id": "FVF993PacbQw",
        "colab_type": "code",
        "outputId": "43cceda0-78de-4ac5-a74e-2e0761ba78c2",
        "colab": {
          "base_uri": "https://localhost:8080/",
          "height": 305
        }
      },
      "source": [
        "two = [[0,0],[1,0]]\n",
        "two = np.array(two)\n",
        "print(two)\n",
        "\n",
        "plt.imshow(two,cmap=cmap);\n",
        "plt.show()"
      ],
      "execution_count": 81,
      "outputs": [
        {
          "output_type": "stream",
          "text": [
            "[[0 0]\n",
            " [1 0]]\n"
          ],
          "name": "stdout"
        },
        {
          "output_type": "display_data",
          "data": {
            "image/png": "[encoded data removed]",
            "text/plain": [
              "<Figure size 432x288 with 1 Axes>"
            ]
          },
          "metadata": {
            "tags": []
          }
        }
      ]
    },
    {
      "cell_type": "code",
      "metadata": {
        "id": "RlpT6wtKchYH",
        "colab_type": "code",
        "outputId": "be034b45-03cd-4b40-eb75-3ea6bea0ad4a",
        "colab": {
          "base_uri": "https://localhost:8080/",
          "height": 53
        }
      },
      "source": [
        "predict(two.ravel())"
      ],
      "execution_count": 82,
      "outputs": [
        {
          "output_type": "stream",
          "text": [
            "Predicition: Forward Slash\n"
          ],
          "name": "stdout"
        },
        {
          "output_type": "execute_result",
          "data": {
            "text/plain": [
              "-1"
            ]
          },
          "metadata": {
            "tags": []
          },
          "execution_count": 82
        }
      ]
    },
    {
      "cell_type": "code",
      "metadata": {
        "id": "Cwd56DxCcqFu",
        "colab_type": "code",
        "colab": {}
      },
      "source": [
        ""
      ],
      "execution_count": 0,
      "outputs": []
    }
  ]
}