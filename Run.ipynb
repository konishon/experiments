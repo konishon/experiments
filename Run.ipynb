{
  "nbformat": 4,
  "nbformat_minor": 0,
  "metadata": {
    "colab": {
      "name": "Run.ipynb",
      "provenance": []
    },
    "kernelspec": {
      "name": "python3",
      "display_name": "Python 3"
    }
  },
  "cells": [
    {
      "cell_type": "markdown",
      "metadata": {
        "id": "ziaAP13pyUas",
        "colab_type": "text"
      },
      "source": [
        "[https://towardsdatascience.com/how-tracking-apps-analyse-your-gps-data-a-hands-on-tutorial-in-python-756d4db6715d](Link 1)"
      ]
    },
    {
      "cell_type": "code",
      "metadata": {
        "id": "tQWqqz6evjl2",
        "colab_type": "code",
        "colab": {
          "base_uri": "https://localhost:8080/",
          "height": 260
        },
        "outputId": "8ad5c22e-991d-42ac-88b9-c6ef2e32a685"
      },
      "source": [
        "!pip install gpxpy\n",
        "!pip install chart_studio\n",
        "!pip install haversine"
      ],
      "execution_count": 5,
      "outputs": [
        {
          "output_type": "stream",
          "text": [
            "Requirement already satisfied: gpxpy in /usr/local/lib/python3.6/dist-packages (1.3.5)\n",
            "Requirement already satisfied: chart_studio in /usr/local/lib/python3.6/dist-packages (1.0.0)\n",
            "Requirement already satisfied: plotly in /usr/local/lib/python3.6/dist-packages (from chart_studio) (4.1.1)\n",
            "Requirement already satisfied: requests in /usr/local/lib/python3.6/dist-packages (from chart_studio) (2.21.0)\n",
            "Requirement already satisfied: retrying>=1.3.3 in /usr/local/lib/python3.6/dist-packages (from chart_studio) (1.3.3)\n",
            "Requirement already satisfied: six in /usr/local/lib/python3.6/dist-packages (from chart_studio) (1.12.0)\n",
            "Requirement already satisfied: chardet<3.1.0,>=3.0.2 in /usr/local/lib/python3.6/dist-packages (from requests->chart_studio) (3.0.4)\n",
            "Requirement already satisfied: idna<2.9,>=2.5 in /usr/local/lib/python3.6/dist-packages (from requests->chart_studio) (2.8)\n",
            "Requirement already satisfied: urllib3<1.25,>=1.21.1 in /usr/local/lib/python3.6/dist-packages (from requests->chart_studio) (1.24.3)\n",
            "Requirement already satisfied: certifi>=2017.4.17 in /usr/local/lib/python3.6/dist-packages (from requests->chart_studio) (2019.9.11)\n",
            "Collecting haversine\n",
            "  Downloading https://files.pythonhosted.org/packages/d7/26/78d4fadc73b7e4c3543f9d5401892cb9a3f4202be789984826033922ec5a/haversine-2.1.2-py2.py3-none-any.whl\n",
            "Installing collected packages: haversine\n",
            "Successfully installed haversine-2.1.2\n"
          ],
          "name": "stdout"
        }
      ]
    },
    {
      "cell_type": "code",
      "metadata": {
        "id": "nMA0XYlvvp8S",
        "colab_type": "code",
        "colab": {}
      },
      "source": [
        "import gpxpy\n",
        "import matplotlib.pyplot as plt\n",
        "import datetime\n",
        "from geopy import distance\n",
        "from math import sqrt, floor\n",
        "import numpy as np\n",
        "import pandas as pd\n",
        "import chart_studio.plotly as py\n",
        "import plotly.graph_objs as go\n",
        "import haversine\n",
        "import tqdm"
      ],
      "execution_count": 0,
      "outputs": []
    },
    {
      "cell_type": "markdown",
      "metadata": {
        "id": "HKONwMC8wLDp",
        "colab_type": "text"
      },
      "source": [
        "# Loading data "
      ]
    },
    {
      "cell_type": "markdown",
      "metadata": {
        "id": "xcHKDtvDxBAm",
        "colab_type": "text"
      },
      "source": [
        "## Using GpxPy"
      ]
    },
    {
      "cell_type": "code",
      "metadata": {
        "id": "Jum0hwx6wJ8z",
        "colab_type": "code",
        "colab": {
          "base_uri": "https://localhost:8080/",
          "height": 69
        },
        "outputId": "8c92b15a-9868-432f-a43e-0db649a815af"
      },
      "source": [
        "gpx_file = open('/content/20191001-181138.gpx', 'r')\n",
        "gpx = gpxpy.parse(gpx_file)\n",
        "\n",
        "print(\"Lenght of tracks: {}\".format(len(gpx.tracks)))\n",
        "\n",
        "print(\"Lenght of track segments: {}\".format(len(gpx.tracks[0].segments)))\n",
        "\n",
        "print(\"Number of points on a track segments: {}\".format(len(gpx.tracks[0].segments[0].points)))"
      ],
      "execution_count": 15,
      "outputs": [
        {
          "output_type": "stream",
          "text": [
            "Lenght of tracks: 1\n",
            "Lenght of track segments: 1\n",
            "Number of points on a track segments: 3311\n"
          ],
          "name": "stdout"
        }
      ]
    },
    {
      "cell_type": "code",
      "metadata": {
        "id": "3fFD1j1awSIo",
        "colab_type": "code",
        "colab": {
          "base_uri": "https://localhost:8080/",
          "height": 52
        },
        "outputId": "59bbc161-7808-4bcf-e587-868b85b45f64"
      },
      "source": [
        "points = gpx.tracks[0].segments[0].points\n",
        "print(\"Starting point: {}\".format(points[0]))\n",
        "\n",
        "print(\"Ending point: {}\".format(points[-1]))"
      ],
      "execution_count": 17,
      "outputs": [
        {
          "output_type": "stream",
          "text": [
            "Starting point: [trkpt:27.72989188,85.32929305@1317.0@2019-10-01 12:26:38.019000+00:00]\n",
            "Ending point: [trkpt:27.70685455,85.32227206@1254.0@2019-10-01 13:21:50+00:00]\n"
          ],
          "name": "stdout"
        }
      ]
    },
    {
      "cell_type": "markdown",
      "metadata": {
        "id": "_Hf_wgvpxEIA",
        "colab_type": "text"
      },
      "source": [
        "## Using pandas"
      ]
    },
    {
      "cell_type": "code",
      "metadata": {
        "id": "ivgxjtM7xGYt",
        "colab_type": "code",
        "colab": {}
      },
      "source": [
        "df = pd.DataFrame(columns=['lon', 'lat', 'alt', 'time'])\n",
        "for point in points:\n",
        "    df = df.append({'lon': point.longitude, 'lat' : point.latitude, 'alt' : point.elevation, 'time' : point.time}, ignore_index=True)"
      ],
      "execution_count": 0,
      "outputs": []
    },
    {
      "cell_type": "code",
      "metadata": {
        "id": "xVMHMs8ExV0W",
        "colab_type": "code",
        "colab": {
          "base_uri": "https://localhost:8080/",
          "height": 206
        },
        "outputId": "e673fa07-a833-4b44-b74d-e6bf37fe8d0d"
      },
      "source": [
        "df.head()"
      ],
      "execution_count": 42,
      "outputs": [
        {
          "output_type": "execute_result",
          "data": {
            "text/html": [
              "<div>\n",
              "<style scoped>\n",
              "    .dataframe tbody tr th:only-of-type {\n",
              "        vertical-align: middle;\n",
              "    }\n",
              "\n",
              "    .dataframe tbody tr th {\n",
              "        vertical-align: top;\n",
              "    }\n",
              "\n",
              "    .dataframe thead th {\n",
              "        text-align: right;\n",
              "    }\n",
              "</style>\n",
              "<table border=\"1\" class=\"dataframe\">\n",
              "  <thead>\n",
              "    <tr style=\"text-align: right;\">\n",
              "      <th></th>\n",
              "      <th>lon</th>\n",
              "      <th>lat</th>\n",
              "      <th>alt</th>\n",
              "      <th>time</th>\n",
              "    </tr>\n",
              "  </thead>\n",
              "  <tbody>\n",
              "    <tr>\n",
              "      <th>0</th>\n",
              "      <td>85.329293</td>\n",
              "      <td>27.729892</td>\n",
              "      <td>1317.0</td>\n",
              "      <td>2019-10-01 12:26:38.019000+00:00</td>\n",
              "    </tr>\n",
              "    <tr>\n",
              "      <th>1</th>\n",
              "      <td>85.329489</td>\n",
              "      <td>27.729920</td>\n",
              "      <td>1314.0</td>\n",
              "      <td>2019-10-01 12:26:40.019000+00:00</td>\n",
              "    </tr>\n",
              "    <tr>\n",
              "      <th>2</th>\n",
              "      <td>85.329269</td>\n",
              "      <td>27.729928</td>\n",
              "      <td>1309.0</td>\n",
              "      <td>2019-10-01 12:26:41.019000+00:00</td>\n",
              "    </tr>\n",
              "    <tr>\n",
              "      <th>3</th>\n",
              "      <td>85.329177</td>\n",
              "      <td>27.729962</td>\n",
              "      <td>1281.0</td>\n",
              "      <td>2019-10-01 12:26:43.019000+00:00</td>\n",
              "    </tr>\n",
              "    <tr>\n",
              "      <th>4</th>\n",
              "      <td>85.329223</td>\n",
              "      <td>27.729983</td>\n",
              "      <td>1286.0</td>\n",
              "      <td>2019-10-01 12:26:44.019000+00:00</td>\n",
              "    </tr>\n",
              "  </tbody>\n",
              "</table>\n",
              "</div>"
            ],
            "text/plain": [
              "         lon        lat     alt                              time\n",
              "0  85.329293  27.729892  1317.0  2019-10-01 12:26:38.019000+00:00\n",
              "1  85.329489  27.729920  1314.0  2019-10-01 12:26:40.019000+00:00\n",
              "2  85.329269  27.729928  1309.0  2019-10-01 12:26:41.019000+00:00\n",
              "3  85.329177  27.729962  1281.0  2019-10-01 12:26:43.019000+00:00\n",
              "4  85.329223  27.729983  1286.0  2019-10-01 12:26:44.019000+00:00"
            ]
          },
          "metadata": {
            "tags": []
          },
          "execution_count": 42
        }
      ]
    },
    {
      "cell_type": "markdown",
      "metadata": {
        "id": "mlHc8HSAxfm3",
        "colab_type": "text"
      },
      "source": [
        "# Data viz"
      ]
    },
    {
      "cell_type": "code",
      "metadata": {
        "id": "81nToim4xhV9",
        "colab_type": "code",
        "colab": {
          "base_uri": "https://localhost:8080/",
          "height": 286
        },
        "outputId": "834e8630-b1c3-4c2b-bec9-702013f2ea9f"
      },
      "source": [
        "plt.plot(df['lon'], df['lat'])"
      ],
      "execution_count": 43,
      "outputs": [
        {
          "output_type": "execute_result",
          "data": {
            "text/plain": [
              "[<matplotlib.lines.Line2D at 0x7f95061f2a58>]"
            ]
          },
          "metadata": {
            "tags": []
          },
          "execution_count": 43
        },
        {
          "output_type": "display_data",
          "data": {
            "image/png": "[encoded data removed]",
            "text/plain": [
              "<Figure size 432x288 with 1 Axes>"
            ]
          },
          "metadata": {
            "tags": []
          }
        }
      ]
    },
    {
      "cell_type": "code",
      "metadata": {
        "id": "33y0r6nGzvvQ",
        "colab_type": "code",
        "colab": {
          "base_uri": "https://localhost:8080/",
          "height": 34
        },
        "outputId": "56bd08ef-b9b8-4937-85ee-4f42178eb0d5"
      },
      "source": [
        "time_dif = [0]\n",
        "dist_dif_hav_2d = [0]\n",
        "\n",
        "for index in range(len(points)):\n",
        "    if index == 0:\n",
        "        pass\n",
        "    else:\n",
        "        \n",
        "        start = points[index-1]\n",
        "        stop = points[index]\n",
        "        time_delta = (stop.time - start.time).total_seconds()\n",
        "        time_dif.append(time_delta)\n",
        "        \n",
        "        distance_hav_2d = haversine.haversine((start.latitude, start.longitude), (stop.latitude, stop.longitude))*1000\n",
        "        dist_dif_hav_2d.append(distance_hav_2d)\n",
        "        \n",
        "print('Total Time : ', floor(sum(time_dif)/60),' min ', int(sum(time_dif)%60),' sec ')    \n",
        "\n",
        "df['time_dif'] = time_dif\n",
        "df['dis_dif_hav_2d'] = dist_dif_hav_2d"
      ],
      "execution_count": 47,
      "outputs": [
        {
          "output_type": "stream",
          "text": [
            "Total Time :  55  min  11  sec \n"
          ],
          "name": "stdout"
        }
      ]
    },
    {
      "cell_type": "code",
      "metadata": {
        "id": "q4vZv0cO9yr_",
        "colab_type": "code",
        "colab": {
          "base_uri": "https://localhost:8080/",
          "height": 301
        },
        "outputId": "d3dfebb7-3a3c-4c61-8ba4-f0d4e0033bc9"
      },
      "source": [
        "df['spd'] = (df['dis_dif_hav_2d'] / df['time_dif']) * 3.6\n",
        "df =  df[df['spd'].notnull()]\n",
        "df.describe()"
      ],
      "execution_count": 57,
      "outputs": [
        {
          "output_type": "execute_result",
          "data": {
            "text/html": [
              "<div>\n",
              "<style scoped>\n",
              "    .dataframe tbody tr th:only-of-type {\n",
              "        vertical-align: middle;\n",
              "    }\n",
              "\n",
              "    .dataframe tbody tr th {\n",
              "        vertical-align: top;\n",
              "    }\n",
              "\n",
              "    .dataframe thead th {\n",
              "        text-align: right;\n",
              "    }\n",
              "</style>\n",
              "<table border=\"1\" class=\"dataframe\">\n",
              "  <thead>\n",
              "    <tr style=\"text-align: right;\">\n",
              "      <th></th>\n",
              "      <th>lon</th>\n",
              "      <th>lat</th>\n",
              "      <th>alt</th>\n",
              "      <th>time_dif</th>\n",
              "      <th>dis_dif_hav_2d</th>\n",
              "      <th>spd</th>\n",
              "    </tr>\n",
              "  </thead>\n",
              "  <tbody>\n",
              "    <tr>\n",
              "      <th>count</th>\n",
              "      <td>3310.000000</td>\n",
              "      <td>3310.000000</td>\n",
              "      <td>3310.000000</td>\n",
              "      <td>3310.000000</td>\n",
              "      <td>3310.000000</td>\n",
              "      <td>3310.000000</td>\n",
              "    </tr>\n",
              "    <tr>\n",
              "      <th>mean</th>\n",
              "      <td>85.320578</td>\n",
              "      <td>27.718258</td>\n",
              "      <td>1268.689426</td>\n",
              "      <td>1.000598</td>\n",
              "      <td>1.469674</td>\n",
              "      <td>5.274991</td>\n",
              "    </tr>\n",
              "    <tr>\n",
              "      <th>std</th>\n",
              "      <td>0.003537</td>\n",
              "      <td>0.007950</td>\n",
              "      <td>13.703270</td>\n",
              "      <td>0.024580</td>\n",
              "      <td>0.699410</td>\n",
              "      <td>2.260153</td>\n",
              "    </tr>\n",
              "    <tr>\n",
              "      <th>min</th>\n",
              "      <td>85.315520</td>\n",
              "      <td>27.706392</td>\n",
              "      <td>1239.000000</td>\n",
              "      <td>0.981000</td>\n",
              "      <td>0.018046</td>\n",
              "      <td>0.064967</td>\n",
              "    </tr>\n",
              "    <tr>\n",
              "      <th>25%</th>\n",
              "      <td>85.317704</td>\n",
              "      <td>27.711236</td>\n",
              "      <td>1260.000000</td>\n",
              "      <td>1.000000</td>\n",
              "      <td>1.169440</td>\n",
              "      <td>4.209985</td>\n",
              "    </tr>\n",
              "    <tr>\n",
              "      <th>50%</th>\n",
              "      <td>85.319831</td>\n",
              "      <td>27.718038</td>\n",
              "      <td>1267.000000</td>\n",
              "      <td>1.000000</td>\n",
              "      <td>1.427619</td>\n",
              "      <td>5.139430</td>\n",
              "    </tr>\n",
              "    <tr>\n",
              "      <th>75%</th>\n",
              "      <td>85.322922</td>\n",
              "      <td>27.725542</td>\n",
              "      <td>1280.000000</td>\n",
              "      <td>1.000000</td>\n",
              "      <td>1.724969</td>\n",
              "      <td>6.209887</td>\n",
              "    </tr>\n",
              "    <tr>\n",
              "      <th>max</th>\n",
              "      <td>85.329489</td>\n",
              "      <td>27.730829</td>\n",
              "      <td>1314.000000</td>\n",
              "      <td>2.000000</td>\n",
              "      <td>21.637953</td>\n",
              "      <td>77.896632</td>\n",
              "    </tr>\n",
              "  </tbody>\n",
              "</table>\n",
              "</div>"
            ],
            "text/plain": [
              "               lon          lat  ...  dis_dif_hav_2d          spd\n",
              "count  3310.000000  3310.000000  ...     3310.000000  3310.000000\n",
              "mean     85.320578    27.718258  ...        1.469674     5.274991\n",
              "std       0.003537     0.007950  ...        0.699410     2.260153\n",
              "min      85.315520    27.706392  ...        0.018046     0.064967\n",
              "25%      85.317704    27.711236  ...        1.169440     4.209985\n",
              "50%      85.319831    27.718038  ...        1.427619     5.139430\n",
              "75%      85.322922    27.725542  ...        1.724969     6.209887\n",
              "max      85.329489    27.730829  ...       21.637953    77.896632\n",
              "\n",
              "[8 rows x 6 columns]"
            ]
          },
          "metadata": {
            "tags": []
          },
          "execution_count": 57
        }
      ]
    },
    {
      "cell_type": "code",
      "metadata": {
        "id": "kRAb-mg59mJJ",
        "colab_type": "code",
        "colab": {
          "base_uri": "https://localhost:8080/",
          "height": 34
        },
        "outputId": "ee6bbe4e-fb43-4d47-9a14-40e95786c668"
      },
      "source": [
        "avg_km_h = (sum((df['spd'] * df['time_dif'])) / sum(df['time_dif']))\n",
        "\n",
        "avg_km_h"
      ],
      "execution_count": 58,
      "outputs": [
        {
          "output_type": "execute_result",
          "data": {
            "text/plain": [
              "5.287662250177833"
            ]
          },
          "metadata": {
            "tags": []
          },
          "execution_count": 58
        }
      ]
    },
    {
      "cell_type": "code",
      "metadata": {
        "id": "ji7rZwLa_3JL",
        "colab_type": "code",
        "colab": {
          "base_uri": "https://localhost:8080/",
          "height": 286
        },
        "outputId": "8f8a7441-f1c8-474f-c6ae-57dd917c0878"
      },
      "source": [
        "df['time10s'] = list(map(lambda x: round(x, -1)\n",
        "                         , np.cumsum(df['time_dif'])))\n",
        "\n",
        "plt.plot(df.groupby(['time10s']).mean()['spd'])"
      ],
      "execution_count": 59,
      "outputs": [
        {
          "output_type": "execute_result",
          "data": {
            "text/plain": [
              "[<matplotlib.lines.Line2D at 0x7f9507612978>]"
            ]
          },
          "metadata": {
            "tags": []
          },
          "execution_count": 59
        },
        {
          "output_type": "display_data",
          "data": {
            "image/png": "[encoded data removed]",
            "text/plain": [
              "<Figure size 432x288 with 1 Axes>"
            ]
          },
          "metadata": {
            "tags": []
          }
        }
      ]
    }
  ]
}