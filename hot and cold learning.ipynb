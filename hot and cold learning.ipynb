{
 "cells": [
  {
   "cell_type": "code",
   "execution_count": 1,
   "metadata": {},
   "outputs": [],
   "source": [
    "import pandas as pd\n",
    "import numpy as np\n",
    "import random\n",
    "from tqdm import tqdm\n",
    "\n",
    "%matplotlib inline"
   ]
  },
  {
   "cell_type": "markdown",
   "metadata": {},
   "source": [
    "# 1. Hot and cold learning"
   ]
  },
  {
   "cell_type": "markdown",
   "metadata": {},
   "source": [
    "## 1.1. Initialzing using randomly choosen values"
   ]
  },
  {
   "cell_type": "code",
   "execution_count": null,
   "metadata": {},
   "outputs": [],
   "source": [
    "weight = 0.5\n",
    "given_input = 0.5\n",
    "goal_pred = 0.8\n",
    "step_amount = 0.001"
   ]
  },
  {
   "cell_type": "markdown",
   "metadata": {},
   "source": [
    "## 1.2. The training"
   ]
  },
  {
   "cell_type": "code",
   "execution_count": null,
   "metadata": {},
   "outputs": [],
   "source": [
    "def neural_network_v1(input):\n",
    "    return input * weight"
   ]
  },
  {
   "cell_type": "code",
   "execution_count": null,
   "metadata": {},
   "outputs": [],
   "source": [
    "pred = None\n",
    "for i in tqdm(range(99999)):\n",
    "    pred = neural_network_v1(given_input)\n",
    "    error = (pred - goal_pred) ** 2\n",
    "    \n",
    "    up_pred = given_input * (weight + step_amount)\n",
    "    up_error = (goal_pred - up_pred) ** 2\n",
    "    \n",
    "    down_pred = given_input * (weight - step_amount)\n",
    "    down_error = (goal_pred - down_pred) ** 2\n",
    "    \n",
    "    if(down_error < up_error):\n",
    "        weight = weight - step_amount\n",
    "    if(down_error > up_error):\n",
    "        weight = weight + step_amount\n",
    "    \n",
    "print(pred)"
   ]
  },
  {
   "cell_type": "markdown",
   "metadata": {},
   "source": [
    "# 2. The Data\n"
   ]
  },
  {
   "cell_type": "markdown",
   "metadata": {},
   "source": [
    "## 2.1  Generating data\n",
    "**Rules for data generation**\n",
    "- We would like the age to be between 14 to 35\n",
    "- Gender should be either 0 or 1, 0 being female and 1 male.\n",
    "- Status would be calcauted using , two simple rules\n",
    "    - A worker must be 18 years or above for male\n",
    "    - A worker must be 20 years or above for female"
   ]
  },
  {
   "cell_type": "code",
   "execution_count": 2,
   "metadata": {},
   "outputs": [],
   "source": [
    "np.random.seed(1)\n",
    "data = pd.DataFrame({\"age\"  : np.random.choice(range(15,35), 600),\n",
    "                     \"gender\"  : np.random.choice(range(0,2), 600)})\n",
    "data[\"is_underage\"] = (data[\"gender\"] == 1) & (data[\"age\"] <= 18) | (data[\"gender\"] == 0) & (data[\"age\"] <= 20) "
   ]
  },
  {
   "cell_type": "markdown",
   "metadata": {},
   "source": [
    "## 2.1 Data exploration"
   ]
  },
  {
   "cell_type": "code",
   "execution_count": 3,
   "metadata": {},
   "outputs": [
    {
     "data": {
      "image/png": "[encoded data removed]",
      "text/plain": [
       "<Figure size 432x288 with 1 Axes>"
      ]
     },
     "metadata": {},
     "output_type": "display_data"
    }
   ],
   "source": [
    "plot = data.groupby('gender').age.plot(kind='kde')"
   ]
  },
  {
   "cell_type": "markdown",
   "metadata": {},
   "source": [
    "**Chart shows the distribution of people according to their age**"
   ]
  },
  {
   "cell_type": "code",
   "execution_count": 4,
   "metadata": {},
   "outputs": [
    {
     "data": {
      "text/html": [
       "<div>\n",
       "<style scoped>\n",
       "    .dataframe tbody tr th:only-of-type {\n",
       "        vertical-align: middle;\n",
       "    }\n",
       "\n",
       "    .dataframe tbody tr th {\n",
       "        vertical-align: top;\n",
       "    }\n",
       "\n",
       "    .dataframe thead th {\n",
       "        text-align: right;\n",
       "    }\n",
       "</style>\n",
       "<table border=\"1\" class=\"dataframe\">\n",
       "  <thead>\n",
       "    <tr style=\"text-align: right;\">\n",
       "      <th></th>\n",
       "      <th>age</th>\n",
       "      <th>gender</th>\n",
       "      <th>is_underage</th>\n",
       "    </tr>\n",
       "  </thead>\n",
       "  <tbody>\n",
       "    <tr>\n",
       "      <th>0</th>\n",
       "      <td>20</td>\n",
       "      <td>0</td>\n",
       "      <td>True</td>\n",
       "    </tr>\n",
       "    <tr>\n",
       "      <th>1</th>\n",
       "      <td>26</td>\n",
       "      <td>1</td>\n",
       "      <td>False</td>\n",
       "    </tr>\n",
       "  </tbody>\n",
       "</table>\n",
       "</div>"
      ],
      "text/plain": [
       "   age  gender  is_underage\n",
       "0   20       0         True\n",
       "1   26       1        False"
      ]
     },
     "execution_count": 4,
     "metadata": {},
     "output_type": "execute_result"
    }
   ],
   "source": [
    "data.head(2)"
   ]
  },
  {
   "cell_type": "code",
   "execution_count": 5,
   "metadata": {},
   "outputs": [],
   "source": [
    "data.is_underage = data.is_underage.astype(int)"
   ]
  },
  {
   "cell_type": "code",
   "execution_count": 6,
   "metadata": {},
   "outputs": [
    {
     "data": {
      "text/html": [
       "<div>\n",
       "<style scoped>\n",
       "    .dataframe tbody tr th:only-of-type {\n",
       "        vertical-align: middle;\n",
       "    }\n",
       "\n",
       "    .dataframe tbody tr th {\n",
       "        vertical-align: top;\n",
       "    }\n",
       "\n",
       "    .dataframe thead th {\n",
       "        text-align: right;\n",
       "    }\n",
       "</style>\n",
       "<table border=\"1\" class=\"dataframe\">\n",
       "  <thead>\n",
       "    <tr style=\"text-align: right;\">\n",
       "      <th></th>\n",
       "      <th>age</th>\n",
       "      <th>gender</th>\n",
       "      <th>is_underage</th>\n",
       "    </tr>\n",
       "  </thead>\n",
       "  <tbody>\n",
       "    <tr>\n",
       "      <th>0</th>\n",
       "      <td>20</td>\n",
       "      <td>0</td>\n",
       "      <td>1</td>\n",
       "    </tr>\n",
       "    <tr>\n",
       "      <th>1</th>\n",
       "      <td>26</td>\n",
       "      <td>1</td>\n",
       "      <td>0</td>\n",
       "    </tr>\n",
       "  </tbody>\n",
       "</table>\n",
       "</div>"
      ],
      "text/plain": [
       "   age  gender  is_underage\n",
       "0   20       0            1\n",
       "1   26       1            0"
      ]
     },
     "execution_count": 6,
     "metadata": {},
     "output_type": "execute_result"
    }
   ],
   "source": [
    "data.head(2)"
   ]
  },
  {
   "cell_type": "code",
   "execution_count": 7,
   "metadata": {},
   "outputs": [
    {
     "data": {
      "text/html": [
       "<div>\n",
       "<style scoped>\n",
       "    .dataframe tbody tr th:only-of-type {\n",
       "        vertical-align: middle;\n",
       "    }\n",
       "\n",
       "    .dataframe tbody tr th {\n",
       "        vertical-align: top;\n",
       "    }\n",
       "\n",
       "    .dataframe thead th {\n",
       "        text-align: right;\n",
       "    }\n",
       "</style>\n",
       "<table border=\"1\" class=\"dataframe\">\n",
       "  <thead>\n",
       "    <tr style=\"text-align: right;\">\n",
       "      <th></th>\n",
       "      <th>age</th>\n",
       "      <th>gender</th>\n",
       "      <th>is_underage</th>\n",
       "      <th>age &gt; 11</th>\n",
       "      <th>age &gt; 12</th>\n",
       "      <th>age &gt; 13</th>\n",
       "      <th>age &gt; 14</th>\n",
       "    </tr>\n",
       "  </thead>\n",
       "  <tbody>\n",
       "    <tr>\n",
       "      <th>0</th>\n",
       "      <td>20</td>\n",
       "      <td>0</td>\n",
       "      <td>1</td>\n",
       "      <td>1</td>\n",
       "      <td>1</td>\n",
       "      <td>0</td>\n",
       "      <td>0</td>\n",
       "    </tr>\n",
       "    <tr>\n",
       "      <th>1</th>\n",
       "      <td>26</td>\n",
       "      <td>1</td>\n",
       "      <td>0</td>\n",
       "      <td>1</td>\n",
       "      <td>1</td>\n",
       "      <td>1</td>\n",
       "      <td>0</td>\n",
       "    </tr>\n",
       "    <tr>\n",
       "      <th>2</th>\n",
       "      <td>27</td>\n",
       "      <td>0</td>\n",
       "      <td>0</td>\n",
       "      <td>1</td>\n",
       "      <td>1</td>\n",
       "      <td>1</td>\n",
       "      <td>0</td>\n",
       "    </tr>\n",
       "    <tr>\n",
       "      <th>3</th>\n",
       "      <td>23</td>\n",
       "      <td>1</td>\n",
       "      <td>0</td>\n",
       "      <td>1</td>\n",
       "      <td>1</td>\n",
       "      <td>1</td>\n",
       "      <td>0</td>\n",
       "    </tr>\n",
       "    <tr>\n",
       "      <th>4</th>\n",
       "      <td>24</td>\n",
       "      <td>1</td>\n",
       "      <td>0</td>\n",
       "      <td>1</td>\n",
       "      <td>1</td>\n",
       "      <td>1</td>\n",
       "      <td>0</td>\n",
       "    </tr>\n",
       "  </tbody>\n",
       "</table>\n",
       "</div>"
      ],
      "text/plain": [
       "   age  gender  is_underage  age > 11  age > 12  age > 13  age > 14\n",
       "0   20       0            1         1         1         0         0\n",
       "1   26       1            0         1         1         1         0\n",
       "2   27       0            0         1         1         1         0\n",
       "3   23       1            0         1         1         1         0\n",
       "4   24       1            0         1         1         1         0"
      ]
     },
     "execution_count": 7,
     "metadata": {},
     "output_type": "execute_result"
    }
   ],
   "source": [
    "data['age > 11'] = (data.age > 10).astype(int)\n",
    "data['age > 12'] = (data.age > 15).astype(int)\n",
    "data['age > 13'] = (data.age > 20).astype(int)\n",
    "data['age > 14'] = (data.age > 30).astype(int)\n",
    "\n",
    "data.head()"
   ]
  },
  {
   "cell_type": "markdown",
   "metadata": {},
   "source": [
    "# 3. Data Preprocessing"
   ]
  },
  {
   "cell_type": "markdown",
   "metadata": {},
   "source": [
    "## 3.1. Dividing the data into train and test set"
   ]
  },
  {
   "cell_type": "code",
   "execution_count": 8,
   "metadata": {},
   "outputs": [
    {
     "name": "stdout",
     "output_type": "stream",
     "text": [
      "Train: 480 Test: 120\n"
     ]
    }
   ],
   "source": [
    "train=data.sample(frac=0.8,random_state=200)\n",
    "test=data.drop(train.index)\n",
    "\n",
    "print(\"Train: {0} Test: {1}\".format(len(train),len(test)))"
   ]
  },
  {
   "cell_type": "markdown",
   "metadata": {},
   "source": [
    "**Storing 80 percent of the data as train and remaning as test set**"
   ]
  },
  {
   "cell_type": "markdown",
   "metadata": {},
   "source": [
    "# 4. Hot and cold learning to predict underage"
   ]
  },
  {
   "cell_type": "code",
   "execution_count": null,
   "metadata": {},
   "outputs": [],
   "source": [
    "            #age #gender\n",
    "weights = [[0.5,0.48], #not underage\n",
    "            [0.2,0.6]] #underage\n",
    "age = train['age'].values.tolist()\n",
    "gender = train['gender'].values.tolist()\n",
    "is_underage = train['is_underage'].values.tolist()\n",
    "training_input = [20,1]\n",
    "classes = [\"not underage\",\"underage\"]"
   ]
  },
  {
   "cell_type": "markdown",
   "metadata": {},
   "source": [
    "**Weights have been randomly choosen**"
   ]
  },
  {
   "cell_type": "code",
   "execution_count": 11,
   "metadata": {},
   "outputs": [],
   "source": [
    "def weighted_sum(a,b):\n",
    "    output = 0\n",
    "    for i in range(len(a)):\n",
    "        output += (a[i] * b[i])\n",
    "    return output\n",
    "\n",
    "def vector_math_mul(vector,matrix):\n",
    "    assert (len(vector) == len(matrix))\n",
    "    \n",
    "    output = [0,0]\n",
    "    for i in range (len(vector)):\n",
    "        output[i] = weighted_sum(vector,matrix[i])\n",
    "    return output\n",
    "\n",
    "def neural_network_mul_in_out(input,weights):\n",
    "    pred = vector_math_mul(input,weights)\n",
    "    return pred"
   ]
  },
  {
   "cell_type": "markdown",
   "metadata": {},
   "source": [
    "**A visual demo of matrix multiplication**\n",
    "http://matrixmultiplication.xyz/"
   ]
  },
  {
   "cell_type": "code",
   "execution_count": null,
   "metadata": {},
   "outputs": [],
   "source": [
    "pred = neural_network_mul_in_out(training_input,weights)\n",
    "print(pred)\n",
    "np.array(training_input).dot(np.array(weights))"
   ]
  },
  {
   "cell_type": "code",
   "execution_count": null,
   "metadata": {},
   "outputs": [],
   "source": [
    "[age[0],gender[0],is_underage[0]]"
   ]
  },
  {
   "cell_type": "code",
   "execution_count": null,
   "metadata": {},
   "outputs": [],
   "source": [
    "train.head()"
   ]
  },
  {
   "cell_type": "code",
   "execution_count": null,
   "metadata": {},
   "outputs": [],
   "source": [
    "pred = None\n",
    "epoch = len(train) * 10\n",
    "for i in tqdm(range(epoch)):\n",
    "    for j in range(2):\n",
    "        training_input = [age[j],gender[j]]\n",
    "        pred = neural_network_mul_in_out(training_input,weights)\n",
    "        label = classes.index(classes[pred.index(max(pred))])\n",
    "        \n",
    "        if (label == is_underage[j]):\n",
    "            pass\n",
    "#           print(\"Weight found {0}\".format(weights))\n",
    "            \n"
   ]
  },
  {
   "cell_type": "code",
   "execution_count": null,
   "metadata": {},
   "outputs": [],
   "source": [
    "step_size = 0.1\n",
    "epoch = len(train) * 2\n",
    "weights = np.array([0.5,0.5,0.5])\n",
    " \n",
    "for i in tqdm(range(epoch)):\n",
    "    error_for_all_data = 0\n",
    "    for row_index in range(len(train)):\n",
    "        \n",
    "        training_input = [age[row_index],gender[row_index]]\n",
    "        goal_pred = is_underage[row_index]\n",
    "        \n",
    "        training_input = np.array(training_input)\n",
    "        goal_pred = np.array(goal_pred)\n",
    "\n",
    "        \n",
    "        \n"
   ]
  },
  {
   "cell_type": "code",
   "execution_count": null,
   "metadata": {},
   "outputs": [],
   "source": [
    "import numpy as np\n",
    "\n",
    "weights = np.array([0.5,0.48,-0.7])\n",
    "alpha = 0.1\n",
    "\n",
    "streetlights = np.array( [[ 1, 0, 1 ],\n",
    "                          [ 0, 1, 1 ],\n",
    "                          [ 0, 0, 1 ],\n",
    "                          [ 1, 1, 1 ],\n",
    "                          [ 0, 1, 1 ],\n",
    "                          [ 1, 0, 1 ] ] )\n",
    "\n",
    "walk_vs_stop = np.array( [ 0, 1, 0, 1, 1, 0 ] )\n",
    "\n",
    "input = streetlights[0] # [1,0,1]\n",
    "goal_prediction = walk_vs_stop[0] # equals 0... i.e. \"stop\"\n",
    "\n",
    "for iteration in range(40):\n",
    "    error_for_all_lights = 0\n",
    "    for row_index in range(len(walk_vs_stop)):\n",
    "        input = streetlights[row_index]\n",
    "        goal_prediction = walk_vs_stop[row_index]\n",
    "        \n",
    "        prediction = input.dot(weights)\n",
    "        \n",
    "        error = (goal_prediction - prediction) ** 2\n",
    "        error_for_all_lights += error\n",
    "        \n",
    "        delta = prediction - goal_prediction\n",
    "        weights = weights - (alpha * (input * delta))\t\n",
    "#         print(\"Prediction:\" + str(prediction))\n",
    "        \n",
    "#     print(\"Error:\" + str(error_for_all_lights) + \"\\n\")\n",
    "#     print(weights)\n",
    "\n"
   ]
  },
  {
   "cell_type": "code",
   "execution_count": 9,
   "metadata": {},
   "outputs": [
    {
     "name": "stdout",
     "output_type": "stream",
     "text": [
      "(480, 5)\n",
      "(5,)\n",
      "(480,)\n"
     ]
    }
   ],
   "source": [
    "weights = np.array([0.5,0.5,0.5,0.5,0.5])\n",
    "underage_vs_not_underage = np.array(train[\"is_underage\"])\n",
    "age_gender = np.array(train.drop(['is_underage','age'],axis=1))\n",
    "\n",
    "\n",
    "\n",
    "print(age_gender.shape)\n",
    "print(weights.shape) \n",
    "print(underage_vs_not_underage.shape)\n"
   ]
  },
  {
   "cell_type": "code",
   "execution_count": 20,
   "metadata": {},
   "outputs": [
    {
     "name": "stderr",
     "output_type": "stream",
     "text": [
      "\r",
      "  0%|          | 0/1920 [00:00<?, ?it/s]"
     ]
    },
    {
     "name": "stdout",
     "output_type": "stream",
     "text": [
      "1.5\n",
      "2.5\n",
      "2.0\n",
      "2.0\n",
      "2.0\n",
      "2.0\n",
      "2.0\n",
      "1.5\n",
      "1.5\n",
      "2.0\n",
      "2.0\n",
      "1.5\n",
      "1.0\n",
      "0.5\n",
      "2.0\n",
      "1.0\n",
      "1.5\n",
      "1.5\n",
      "1.5\n",
      "1.0\n",
      "2.0\n",
      "0.5\n",
      "0.5\n",
      "1.0\n",
      "1.5\n",
      "0.5\n",
      "1.5\n",
      "1.0\n",
      "1.0\n",
      "1.5\n",
      "1.0\n",
      "1.5\n",
      "2.0\n",
      "1.5\n",
      "2.5\n",
      "2.0\n",
      "1.0\n",
      "1.5\n",
      "1.5\n",
      "2.0\n",
      "2.5\n",
      "1.5\n",
      "2.0\n",
      "1.5\n",
      "2.0\n",
      "1.5\n",
      "2.5\n",
      "1.5\n",
      "2.0\n",
      "2.0\n",
      "1.5\n",
      "1.5\n",
      "2.0\n",
      "1.0\n",
      "1.5\n",
      "1.5\n",
      "1.5\n",
      "2.0\n",
      "1.5\n",
      "1.5\n",
      "2.0\n",
      "1.5\n",
      "1.5\n",
      "2.0\n",
      "2.0\n",
      "2.0\n",
      "2.5\n",
      "2.0\n",
      "1.5\n",
      "2.0\n",
      "2.0\n",
      "1.5\n",
      "2.5\n",
      "1.5\n",
      "1.0\n",
      "1.5\n",
      "2.0\n",
      "1.5\n",
      "1.5\n",
      "2.0\n",
      "1.5\n",
      "2.0\n",
      "1.5\n",
      "2.5\n",
      "1.5\n",
      "2.5\n",
      "2.5\n",
      "1.5\n",
      "2.0\n",
      "2.0\n",
      "1.5\n",
      "1.0\n",
      "1.5\n",
      "1.5\n",
      "1.5\n",
      "1.5\n",
      "2.0\n",
      "2.5\n",
      "2.0\n",
      "2.5\n",
      "2.5\n"
     ]
    },
    {
     "name": "stderr",
     "output_type": "stream",
     "text": [
      "\n"
     ]
    },
    {
     "ename": "SystemExit",
     "evalue": "",
     "output_type": "error",
     "traceback": [
      "An exception has occurred, use %tb to see the full traceback.\n",
      "\u001b[0;31mSystemExit\u001b[0m\n"
     ]
    },
    {
     "name": "stderr",
     "output_type": "stream",
     "text": [
      "/home/nishon/.local/lib/python3.6/site-packages/IPython/core/interactiveshell.py:2969: UserWarning: To exit: use 'exit', 'quit', or Ctrl-D.\n",
      "  warn(\"To exit: use 'exit', 'quit', or Ctrl-D.\", stacklevel=1)\n"
     ]
    }
   ],
   "source": [
    "import sys\n",
    "epoch = len(train) * 4\n",
    "alpha = 0.5\n",
    "for i in tqdm(range(epoch)):\n",
    "    error_in_all_data = 0\n",
    "    for row_index in range(len(underage_vs_not_underage)):\n",
    "        given_input = age_gender[row_index]\n",
    "        goal_pred = underage_vs_not_underage[row_index]  \n",
    "        pred = given_input.dot(weights)\n",
    "        print(pred)\n",
    "        \n",
    "        if(row_index == 100):\n",
    "            sys.exit()\n",
    "        "
   ]
  },
  {
   "cell_type": "code",
   "execution_count": null,
   "metadata": {},
   "outputs": [],
   "source": [
    "weights = np.array([0.5,0.5,0.5,0.5,0.5,0.5,0.5])\n",
    "underage_vs_not_underage = data[\"is_underage\"]\n",
    "age_gender = train.drop(['is_underage'],axis=1)\n",
    "\n",
    "age_gender = np.array(age_gender)\n",
    "underage_vs_not_underage = np.array(underage_vs_not_underage)\n",
    "\n",
    "for i in range(2):\n",
    "    error_for_all_lights = 0\n",
    "    print(len(underage_vs_not_underage))\n",
    "    for row_index in range(len(underage_vs_not_underage)):\n",
    "        input = age_gender[row_index]\n",
    "        goal_prediction = underage_vs_not_underage[row_index]\n",
    "        \n",
    "        prediction = input.dot(weights)\n",
    "        \n",
    "        print(prediction)\n",
    "        error = (goal_prediction - prediction) ** 2\n",
    "        error_for_all_lights += error\n",
    "        delta = prediction - goal_prediction\n",
    "        weights = weights - (alpha * (input * delta))\n",
    "       \n",
    "        \n",
    "    print(\"Error:\" + str(error_for_all_lights) + \"\\n\")\n",
    "          "
   ]
  },
  {
   "cell_type": "code",
   "execution_count": null,
   "metadata": {},
   "outputs": [],
   "source": []
  }
 ],
 "metadata": {
  "kernelspec": {
   "display_name": "tf_gpu-2",
   "language": "python",
   "name": "tf_gpu-2"
  },
  "language_info": {
   "codemirror_mode": {
    "name": "ipython",
    "version": 3
   },
   "file_extension": ".py",
   "mimetype": "text/x-python",
   "name": "python",
   "nbconvert_exporter": "python",
   "pygments_lexer": "ipython3",
   "version": "3.6.8"
  }
 },
 "nbformat": 4,
 "nbformat_minor": 2
}
